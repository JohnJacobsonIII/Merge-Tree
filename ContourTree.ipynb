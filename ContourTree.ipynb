{
  "nbformat": 4,
  "nbformat_minor": 0,
  "metadata": {
    "colab": {
      "name": "Copy of ContourTree.ipynb",
      "provenance": [],
      "collapsed_sections": []
    },
    "kernelspec": {
      "name": "python3",
      "display_name": "Python 3"
    },
    "language_info": {
      "name": "python"
    }
  },
  "cells": [
    {
      "cell_type": "markdown",
      "metadata": {
        "id": "sfoCUpMET40C"
      },
      "source": [
        "#Create vertices for 2D and store in an array"
      ]
    },
    {
      "cell_type": "code",
      "metadata": {
        "colab": {
          "base_uri": "https://localhost:8080/"
        },
        "id": "d_VhHgjnsxWM",
        "outputId": "7f503a40-3705-4062-9b45-2c6155c6c135"
      },
      "source": [
        "import numpy as np\n",
        "import pandas as pd\n",
        "import functools \n",
        "from IPython.display import Image, display\n",
        "import graphviz\n",
        "import pydot\n",
        "from graphviz import Source\n",
        "\n",
        "arr = np.array([[4, 3, 2, 7], [5, 0, 1, 6], [6, 2, 3, 4], [7, 1, 0, 5]])\n",
        "print(arr)\n",
        "size_x = len(arr)-1\n",
        "size_y = len(arr[0])-1\n",
        "print(size_x)\n",
        "print(size_y)"
      ],
      "execution_count": 1,
      "outputs": [
        {
          "output_type": "stream",
          "name": "stdout",
          "text": [
            "[[4 3 2 7]\n",
            " [5 0 1 6]\n",
            " [6 2 3 4]\n",
            " [7 1 0 5]]\n",
            "3\n",
            "3\n"
          ]
        }
      ]
    },
    {
      "cell_type": "markdown",
      "metadata": {
        "id": "d6S_NOtVH_se"
      },
      "source": [
        "Find Neighbors"
      ]
    },
    {
      "cell_type": "code",
      "metadata": {
        "id": "JeN5XoG7H-2q"
      },
      "source": [
        "def findNeighbors(i,j):\n",
        "  #pos_in_sorted_indices = i in sorted_indices\n",
        "  pos_index_i = i\n",
        "  pos_index_j = j\n",
        "\n",
        "  neighbor_list = []\n",
        "  #corners\n",
        "  if(pos_index_i == 0 and pos_index_j == 0):\n",
        "    neighbor_list.append([pos_index_i+1,pos_index_j])\n",
        "    neighbor_list.append([pos_index_i,pos_index_j+1])\n",
        "\n",
        "\n",
        "  elif(pos_index_i == 0 and pos_index_j == size_y):\n",
        "    neighbor_list.append([pos_index_i,pos_index_j-1])\n",
        "    neighbor_list.append([pos_index_i+1,pos_index_j])\n",
        "    neighbor_list.append([pos_index_i+1,pos_index_j-1])\n",
        "\n",
        "\n",
        "  elif(pos_index_i == size_x and pos_index_j == 0):\n",
        "    neighbor_list.append([pos_index_i-1,pos_index_j])\n",
        "    neighbor_list.append([pos_index_i-1,pos_index_j+1])\n",
        "    neighbor_list.append([pos_index_i,pos_index_j+1])\n",
        "\n",
        "\n",
        "  elif(pos_index_i == size_x and pos_index_j == size_y):\n",
        "    neighbor_list.append([pos_index_i,pos_index_j-1])\n",
        "    neighbor_list.append([pos_index_i-1,pos_index_j])\n",
        "\n",
        "  #boundaries\n",
        "  elif((pos_index_i == 0 and pos_index_j != 0) and (pos_index_i == 0 and pos_index_j != size_y)):\n",
        "    neighbor_list.append([pos_index_i,pos_index_j-1])\n",
        "    neighbor_list.append([pos_index_i,pos_index_j+1])\n",
        "    neighbor_list.append([pos_index_i+1,pos_index_j-1])\n",
        "    neighbor_list.append([pos_index_i+1,pos_index_j])\n",
        "\n",
        "\n",
        "  elif((pos_index_i != 0 and pos_index_j == 0) and (pos_index_i != size_x and pos_index_j == 0)):\n",
        "    neighbor_list.append([pos_index_i-1,pos_index_j])\n",
        "    neighbor_list.append([pos_index_i+1,pos_index_j])\n",
        "    neighbor_list.append([pos_index_i,pos_index_j+1])\n",
        "    neighbor_list.append([pos_index_i-1,pos_index_j+1])\n",
        "\n",
        "\n",
        "\n",
        "  elif((pos_index_i == size_x and pos_index_j != 0) and (pos_index_i == size_x and pos_index_j != size_y)):\n",
        "    neighbor_list.append([pos_index_i,pos_index_j-1])\n",
        "    neighbor_list.append([pos_index_i,pos_index_j+1])\n",
        "    neighbor_list.append([pos_index_i-1,pos_index_j])\n",
        "    neighbor_list.append([pos_index_i-1,pos_index_j+1])\n",
        "\n",
        "\n",
        "\n",
        "  elif((pos_index_i != 0 and pos_index_j == size_y) and (pos_index_i != size_x and pos_index_j == size_y)):\n",
        "    neighbor_list.append([pos_index_i-1,pos_index_j])\n",
        "    neighbor_list.append([pos_index_i+1,pos_index_j])\n",
        "    neighbor_list.append([pos_index_i,pos_index_j-1])\n",
        "    neighbor_list.append([pos_index_i+1,pos_index_j])\n",
        "\n",
        "\n",
        "  #general cases\n",
        "  else:\n",
        "    neighbor_list.append([pos_index_i,pos_index_j-1])\n",
        "    neighbor_list.append([pos_index_i-1,pos_index_j])\n",
        "    neighbor_list.append([pos_index_i,pos_index_j+1])\n",
        "    neighbor_list.append([pos_index_i+1,pos_index_j])\n",
        "    neighbor_list.append([pos_index_i-1,pos_index_j+1])\n",
        "    neighbor_list.append([pos_index_i+1,pos_index_j-1])\n",
        "\n",
        "  return neighbor_list"
      ],
      "execution_count": 2,
      "outputs": []
    },
    {
      "cell_type": "markdown",
      "metadata": {
        "id": "4PI4dquycjSz"
      },
      "source": [
        "Johns version"
      ]
    },
    {
      "cell_type": "code",
      "metadata": {
        "id": "AvYnOn7d7Go_",
        "colab": {
          "base_uri": "https://localhost:8080/"
        },
        "outputId": "e14699b1-fc92-40a6-8f24-164f3770c17b"
      },
      "source": [
        "\"\"\"\n",
        "Converting all the outputs of above 'findNeighbors' function \n",
        "into a dict and then displaying for comparison\n",
        "\"\"\"\n",
        "\n",
        "neighbor_dict = {}\n",
        "for i,j in ((a,b) for a in range(4) for b in range(4)):\n",
        "  neighbor_dict[(i,j)] = findNeighbors(i,j)\n",
        "\n",
        "for key, val in neighbor_dict.items():\n",
        "  print(str(key) + ':', val)"
      ],
      "execution_count": 3,
      "outputs": [
        {
          "output_type": "stream",
          "name": "stdout",
          "text": [
            "(0, 0): [[1, 0], [0, 1]]\n",
            "(0, 1): [[0, 0], [0, 2], [1, 0], [1, 1]]\n",
            "(0, 2): [[0, 1], [0, 3], [1, 1], [1, 2]]\n",
            "(0, 3): [[0, 2], [1, 3], [1, 2]]\n",
            "(1, 0): [[0, 0], [2, 0], [1, 1], [0, 1]]\n",
            "(1, 1): [[1, 0], [0, 1], [1, 2], [2, 1], [0, 2], [2, 0]]\n",
            "(1, 2): [[1, 1], [0, 2], [1, 3], [2, 2], [0, 3], [2, 1]]\n",
            "(1, 3): [[0, 3], [2, 3], [1, 2], [2, 3]]\n",
            "(2, 0): [[1, 0], [3, 0], [2, 1], [1, 1]]\n",
            "(2, 1): [[2, 0], [1, 1], [2, 2], [3, 1], [1, 2], [3, 0]]\n",
            "(2, 2): [[2, 1], [1, 2], [2, 3], [3, 2], [1, 3], [3, 1]]\n",
            "(2, 3): [[1, 3], [3, 3], [2, 2], [3, 3]]\n",
            "(3, 0): [[2, 0], [2, 1], [3, 1]]\n",
            "(3, 1): [[3, 0], [3, 2], [2, 1], [2, 2]]\n",
            "(3, 2): [[3, 1], [3, 3], [2, 2], [2, 3]]\n",
            "(3, 3): [[3, 2], [2, 3]]\n"
          ]
        }
      ]
    },
    {
      "cell_type": "code",
      "metadata": {
        "id": "6O2JYRi6Sr6N",
        "colab": {
          "base_uri": "https://localhost:8080/"
        },
        "outputId": "f6e4ee07-fe2f-4d5f-896e-057df99b16d1"
      },
      "source": [
        "\"\"\"\n",
        "My implementation of a dict of neighbors for each position\n",
        "\n",
        "if the order matters for these sets of indices, i'll need to change\n",
        "to a list and modify.\n",
        "\"\"\"\n",
        "\n",
        "def get_range(arr_max_idx, idx):\n",
        "  \"\"\"\n",
        "  returns set of indices neighboring input idx, \n",
        "  between 0 and arr_max_idx (last index for this dimension)\n",
        "  \"\"\"\n",
        "  arr_bounds = set(range(arr_max_idx+1))\n",
        "  return set(range(idx-1,idx+2)).intersection(arr_bounds)\n",
        "\n",
        "neighbor_dict2 = {(i,j): {(x,y) for x in get_range(size_x, i) for y in get_range(size_y, j) if not(x-i==y-j)} for i in range(4) for j in range(4)}\n",
        "\n",
        "for key, val in neighbor_dict2.items():\n",
        "  print(str(key) + ':', val)"
      ],
      "execution_count": 4,
      "outputs": [
        {
          "output_type": "stream",
          "name": "stdout",
          "text": [
            "(0, 0): {(0, 1), (1, 0)}\n",
            "(0, 1): {(1, 0), (0, 0), (0, 2), (1, 1)}\n",
            "(0, 2): {(0, 1), (0, 3), (1, 1), (1, 2)}\n",
            "(0, 3): {(1, 2), (1, 3), (0, 2)}\n",
            "(1, 0): {(0, 1), (2, 0), (0, 0), (1, 1)}\n",
            "(1, 1): {(0, 1), (1, 2), (2, 1), (2, 0), (1, 0), (0, 2)}\n",
            "(1, 2): {(1, 3), (0, 2), (2, 1), (2, 2), (0, 3), (1, 1)}\n",
            "(1, 3): {(1, 2), (0, 3), (2, 3), (2, 2)}\n",
            "(2, 0): {(3, 0), (1, 0), (1, 1), (2, 1)}\n",
            "(2, 1): {(1, 2), (3, 0), (3, 1), (2, 0), (2, 2), (1, 1)}\n",
            "(2, 2): {(1, 2), (3, 2), (1, 3), (3, 1), (2, 1), (2, 3)}\n",
            "(2, 3): {(3, 2), (1, 3), (3, 3), (2, 2)}\n",
            "(3, 0): {(2, 0), (3, 1), (2, 1)}\n",
            "(3, 1): {(3, 0), (3, 2), (2, 1), (2, 2)}\n",
            "(3, 2): {(3, 1), (2, 3), (3, 3), (2, 2)}\n",
            "(3, 3): {(3, 2), (2, 3)}\n"
          ]
        }
      ]
    },
    {
      "cell_type": "code",
      "metadata": {
        "id": "ED2JGFIaUZGm"
      },
      "source": [
        "for k,v in neighbor_dict2.items():\n",
        "  nl = neighbor_dict[k]\n",
        "  assert len(nl) == len(v), \"length mismatch\"\n",
        "  # assert v == set([tuple(x) for x in nl]), \"item not found. k: \" + str(k) + \" v: \" + str(v)\n",
        "\n",
        "# Seems your version has an incorrect case; you can check this assertion violation to see"
      ],
      "execution_count": 5,
      "outputs": []
    },
    {
      "cell_type": "code",
      "metadata": {
        "id": "1rwo_Q2gUY_-"
      },
      "source": [
        ""
      ],
      "execution_count": 5,
      "outputs": []
    },
    {
      "cell_type": "code",
      "metadata": {
        "id": "DoCErat8ZBlh"
      },
      "source": [
        ""
      ],
      "execution_count": 5,
      "outputs": []
    },
    {
      "cell_type": "code",
      "metadata": {
        "id": "4oKN3ZTdcVDa"
      },
      "source": [
        ""
      ],
      "execution_count": 5,
      "outputs": []
    },
    {
      "cell_type": "markdown",
      "metadata": {
        "id": "ftiFr_RRcaUV"
      },
      "source": [
        "creation of UF, UF representative and JT for Join Tree"
      ]
    },
    {
      "cell_type": "markdown",
      "metadata": {
        "id": "cg-aj91XVPkQ"
      },
      "source": [
        "Undirected edges"
      ]
    },
    {
      "cell_type": "code",
      "metadata": {
        "id": "KMWaCBBSUYWe"
      },
      "source": [
        ""
      ],
      "execution_count": 5,
      "outputs": []
    },
    {
      "cell_type": "code",
      "metadata": {
        "id": "7G0r32-PUiSH"
      },
      "source": [
        ""
      ],
      "execution_count": 5,
      "outputs": []
    },
    {
      "cell_type": "code",
      "metadata": {
        "id": "61nT2I0tV9xK"
      },
      "source": [
        ""
      ],
      "execution_count": 5,
      "outputs": []
    },
    {
      "cell_type": "code",
      "metadata": {
        "id": "93ZHtJStWR5l"
      },
      "source": [
        ""
      ],
      "execution_count": 5,
      "outputs": []
    },
    {
      "cell_type": "code",
      "metadata": {
        "id": "H2EMmRP-nZr1"
      },
      "source": [
        "def minJT(i,UF, UF_dict,sorted_indices):\n",
        "  \n",
        "  JT_vertices = []\n",
        "  UF_temp = []\n",
        "  UF_temp.append(sorted_indices[i])\n",
        "  UF.append(UF_temp)\n",
        "  key = sorted_indices[i]\n",
        "  UF_dict[key] = UF_temp\n",
        "  JT_vertices.append(UF_temp)\n",
        "  \n",
        "  return JT_vertices"
      ],
      "execution_count": 6,
      "outputs": []
    },
    {
      "cell_type": "code",
      "metadata": {
        "id": "rjWI_aa7qdyH"
      },
      "source": [
        "def find(UF_dict, vertex):\n",
        "  keys = []\n",
        "  for key, value in UF_dict.items():\n",
        "    for i in range(0,len(value)):\n",
        "      if value[i] == vertex :\n",
        "        return key\n",
        "    \n",
        "  \n"
      ],
      "execution_count": 7,
      "outputs": []
    },
    {
      "cell_type": "code",
      "metadata": {
        "id": "MoZSVwArI3pt"
      },
      "source": [
        ""
      ],
      "execution_count": 7,
      "outputs": []
    },
    {
      "cell_type": "code",
      "metadata": {
        "id": "pMYBB86EKbQn"
      },
      "source": [
        "def common(UF_dict,vertex, other_key):\n",
        "  '''\n",
        "  This is the \"Union\" operation of UF algo.\n",
        "  Merges any non-disjoint sets, and sets the most recently\n",
        "  updated set to the most recent vertex\n",
        "  '''\n",
        "  val = []\n",
        "  new_list =[]\n",
        "  keys=[]\n",
        "  new_dict = {}\n",
        "\n",
        "  # I remade in the below code, because\n",
        "  #   I didn't understand the functionality \n",
        "  #   originally. But fine to fix the original maybe.\n",
        "  #   If my version is kept, some refactoring can be done.\n",
        "\n",
        "  for k,v in UF_dict.items():\n",
        "    vals = v\n",
        "    for k2,v2 in UF_dict.items(): # compare pairs in the product of UF sets\n",
        "      if k2 == k:\n",
        "        continue\n",
        "      if 0 < len(set(vals).intersection(set(v2))):\n",
        "        # non-empty intersection, so merge the sets\n",
        "        vals = list(set(vals).union(set(v2)))\n",
        "      else:\n",
        "        # empty intersection, so leave this pair in the dict as is\n",
        "        new_dict[k2] = v2\n",
        "    if not vals == v:\n",
        "      # if here, should have merged some set\n",
        "      # only updated one element, so\n",
        "      # set the newly merged set in the dict and stop.\n",
        "      new_dict[vertex] = vals\n",
        "      UF_dict = new_dict\n",
        "      break\n",
        "    else:\n",
        "      # this set does not intersect others\n",
        "      # thus new_dict should be the same as UF_dict\n",
        "      # start over and check other sets\n",
        "      new_dict[k] = vals # just to ensure we checked everything\n",
        "      assert new_dict == UF_dict, \"dicts should be equal if no intersections found\"\n",
        "      new_dict = {} # start over\n",
        "\n",
        "  if not new_dict: # no merges, just set pointer to most recent vertex\n",
        "    UF_dict[vertex] = UF_dict.pop(other_key)\n",
        "  else: # some merge happened, so copy over the new dict.\n",
        "    UF_dict = new_dict\n",
        "  \n",
        "  return UF_dict\n",
        "\n",
        "\n",
        "  # \n",
        "  # Problem was here; this tried to swap the passed in\n",
        "  #   vertex multiple times (so key error)... maybe\n",
        "  #   some other issues, but is probably easily fixed\n",
        "  # \n",
        "  # for key,value in UF_dict.items():\n",
        "  #   val.append(value)\n",
        "  #   keys.append(key)\n",
        "\n",
        "  # if len(val) > 1 :\n",
        "  #   for i in range(0,len(val)-1):\n",
        "  #     for j in range(1,len(val)):\n",
        "  #       common_list = set(val[i]).intersection(val[j])\n",
        "  #       if len(common_list) > 0:\n",
        "  #         new_list.extend(val[i])\n",
        "  #         new_list.extend(val[j])\n",
        "  #         new_list = list(set(new_list))\n",
        "  #         UF_dict.pop(keys[i])\n",
        "  #         UF_dict.pop(keys[j])\n",
        "  #         common_element = list(common_list)[0]\n",
        "  #         UF_dict[common_element] = new_list\n",
        "\n",
        "  #       else:\n",
        "  #         # Problem is here.\n",
        "  #         UF_dict[vertex] = UF_dict.pop(other_key)\n",
        "\n",
        "  # else:\n",
        "  #   UF_dict[vertex] = UF_dict.pop(other_key)\n",
        "\n"
      ],
      "execution_count": 8,
      "outputs": []
    },
    {
      "cell_type": "code",
      "metadata": {
        "id": "mvSmZeLizNyA"
      },
      "source": [
        "def update(UF_dict, key1, vertex2):\n",
        "  keys = []\n",
        "  for key, value in UF_dict.items():\n",
        "    if key1 == key:\n",
        "      value.append(vertex2)\n",
        "      keys.append(key)\n",
        "  if len(keys) == 1:\n",
        "    UF_dict = common(UF_dict, vertex2, keys[0]) #if common elements then merge and update\n",
        "  return UF_dict\n",
        " \n",
        "      \n",
        "  "
      ],
      "execution_count": 9,
      "outputs": []
    },
    {
      "cell_type": "code",
      "metadata": {
        "id": "EGNSsHDQ7UfL"
      },
      "source": [
        ""
      ],
      "execution_count": 9,
      "outputs": []
    },
    {
      "cell_type": "code",
      "metadata": {
        "id": "_KAFNTufkwaT"
      },
      "source": [
        "def getJT():\n",
        "  UF_JT = []\n",
        "  UF_representative_JT = []\n",
        "  neighbors_of_each_JT = []\n",
        "  UF_dict_JT = {}\n",
        "  JT = []\n",
        "  JT_vertices = []\n",
        "  JT_edges = []\n",
        "  edges = []\n",
        "  #sorted indices\n",
        "  arr_temp = arr.flatten()\n",
        "  sorted_indices = np.argsort(arr_temp)\n",
        "  \n",
        "  \n",
        "  #sorted values\n",
        "  arr_temp = arr.flatten()\n",
        "  arr_temp.sort()\n",
        "  sorted_vertices = arr_temp\n",
        "  min_val=min(sorted_vertices)\n",
        "  \n",
        "  #sorted indices in terms of 2D matrix\n",
        "  index_i = [0 for x in range(0,len(sorted_indices))]\n",
        "  index_j = [0 for x in range(0,len(sorted_indices))]\n",
        "  for i in range(0,len(arr)):\n",
        "    for j in range(0,len(arr[i])):\n",
        "      ind = len(arr[i])*i + j\n",
        "      pos = sorted_indices.tolist().index(ind)\n",
        "      index_i[pos] = i\n",
        "      index_j[pos] = j\n",
        "  \n",
        "  #finding neighbors of each index\n",
        "  for i in range(0,len(sorted_vertices)):\n",
        "    neighbors = findNeighbors(index_i[i],index_j[i])\n",
        "    neighbor_index = []\n",
        "    for j in range(0,len(neighbors)):\n",
        "      m = (size_y+1)*index_i[i]+index_j[i]\n",
        "      n = (size_y+1)*neighbors[j][0]+neighbors[j][1]\n",
        "      neighbor_index.append(n)\n",
        "      edges.append([m,n])\n",
        "    neighbors_of_each_JT.append(neighbor_index)\n",
        "\n",
        "  for i in range(0,len(sorted_vertices)):\n",
        "      #print(UF_dict_JT)\\\n",
        "      for j in range(0,len(edges)):\n",
        "        #print(sorted_indices[i],edges[j][1])\n",
        "        \n",
        "        if edges[j][1]==sorted_indices[i]:\n",
        "          i_dashed = find(UF_dict_JT, edges[j][0])\n",
        "          #print(i_dashed)\n",
        "          \n",
        "          j_dashed = find(UF_dict_JT, edges[j][1])\n",
        "          #print(j_dashed)\n",
        "         \n",
        "          if i_dashed != j_dashed:   # this will be equal if the edge is already present otherwise always not equal\n",
        "            if i_dashed != None :\n",
        "              JT_edges.append([i_dashed,edges[j][1]])\n",
        "              JT_vertices.append(edges[j][1])\n",
        "            UF_dict_JT = update(UF_dict_JT, i_dashed, edges[j][1])\n",
        "          else:\n",
        "            if i_dashed is None:\n",
        "              JT.append(minJT(i,UF_JT, UF_dict_JT,sorted_indices))\n",
        "              JT_vertices.append(sorted_indices[i])\n",
        "  \n",
        "  graph = pydot.Dot('Join Tree', graph_type='graph')\n",
        "\n",
        "  # Add nodes\n",
        "  for i in range(0,len(JT_vertices)):\n",
        "    my_node = pydot.Node(str(JT_vertices[i]), label=str(JT_vertices[i]))\n",
        "    graph.add_node(my_node)\n",
        "  \n",
        "  # Or, without using an intermediate variable:\n",
        "  #graph.add_node(pydot.Node('b', shape='circle'))\n",
        "\n",
        "  # Add edges\n",
        "  for i in range(0,len(JT_edges)):\n",
        "    my_edge = pydot.Edge(str(JT_edges[i][0]), str(JT_edges[i][1]), color='blue')\n",
        "    graph.add_edge(my_edge)\n",
        "  \n",
        "\n",
        "  \n",
        "  plt = Image(graph.create_png())\n",
        "  display(plt)"
      ],
      "execution_count": 10,
      "outputs": []
    },
    {
      "cell_type": "code",
      "metadata": {
        "id": "ejw2_Jn_lBy1",
        "outputId": "ea3d1114-ed2c-4a5f-f9d4-85447bcfc53d",
        "colab": {
          "base_uri": "https://localhost:8080/"
        }
      },
      "source": [
        "if not {}:\n",
        "  print(0)\n",
        "else:\n",
        "  print(1)"
      ],
      "execution_count": 11,
      "outputs": [
        {
          "output_type": "stream",
          "name": "stdout",
          "text": [
            "0\n"
          ]
        }
      ]
    },
    {
      "cell_type": "code",
      "metadata": {
        "colab": {
          "base_uri": "https://localhost:8080/",
          "height": 1000
        },
        "id": "TiVXyRAQl8sr",
        "outputId": "5640048d-e43c-48a7-ccbc-ea75abe68d10"
      },
      "source": [
        "getJT()"
      ],
      "execution_count": 12,
      "outputs": [
        {
          "output_type": "display_data",
          "data": {
            "image/png": "[encoded data removed]",
            "text/plain": [
              "<IPython.core.display.Image object>"
            ]
          },
          "metadata": {}
        }
      ]
    },
    {
      "cell_type": "code",
      "metadata": {
        "id": "3eJBAcn6lDyq"
      },
      "source": [
        "\n"
      ],
      "execution_count": 12,
      "outputs": []
    },
    {
      "cell_type": "code",
      "metadata": {
        "id": "FeWAmbd0fngq"
      },
      "source": [
        "def maxST(i,UF, UF_dict,reverse_sorted_indices):\n",
        "  \n",
        "  ST_vertices = []\n",
        "  UF_temp = []\n",
        "  UF_temp.append(reverse_sorted_indices[i])\n",
        "  UF.append(UF_temp)\n",
        "  key = reverse_sorted_indices[i]\n",
        "  UF_dict[key] = UF_temp\n",
        "  ST_vertices.append(UF_temp)\n",
        "  \n",
        "  return ST_vertices"
      ],
      "execution_count": 13,
      "outputs": []
    },
    {
      "cell_type": "code",
      "metadata": {
        "id": "u-53F1mwCd6P",
        "outputId": "b05d988c-62c9-4792-a150-548292bf2303",
        "colab": {
          "base_uri": "https://localhost:8080/"
        }
      },
      "source": [
        "reverse_sorted_indices = []\n",
        "arr_temp = arr.flatten()\n",
        "sorted_indices = np.argsort(arr_temp)\n",
        "\n",
        "for i in range(len(sorted_indices)-1,-1,-1):\n",
        "  reverse_sorted_indices.append(sorted_indices[i])\n",
        "\n",
        "print(reverse_sorted_indices)\n",
        "\n",
        "rev_ids = np.flip(sorted_indices)\n",
        "print(list(rev_ids))\n",
        "assert list(rev_ids) == reverse_sorted_indices, \"rev sort mismatch\"\n",
        "\n",
        "print()\n",
        "print()\n",
        "\n",
        "reverse_sorted_vertices =[]\n",
        "arr_temp.sort()\n",
        "for i in range(len(arr_temp)-1,-1,-1):\n",
        "  reverse_sorted_vertices.append(arr_temp[i])\n",
        "max_val=max(reverse_sorted_vertices)\n",
        "print(reverse_sorted_vertices)\n",
        "\n",
        "rev_verts = np.flip(arr_temp)\n",
        "print(list(rev_verts))\n",
        "assert list(rev_verts) == reverse_sorted_vertices, \"rev vert mismatch\""
      ],
      "execution_count": 14,
      "outputs": [
        {
          "output_type": "stream",
          "name": "stdout",
          "text": [
            "[12, 3, 8, 7, 15, 4, 11, 0, 10, 1, 9, 2, 13, 6, 14, 5]\n",
            "[12, 3, 8, 7, 15, 4, 11, 0, 10, 1, 9, 2, 13, 6, 14, 5]\n",
            "\n",
            "\n",
            "[7, 7, 6, 6, 5, 5, 4, 4, 3, 3, 2, 2, 1, 1, 0, 0]\n",
            "[7, 7, 6, 6, 5, 5, 4, 4, 3, 3, 2, 2, 1, 1, 0, 0]\n"
          ]
        }
      ]
    },
    {
      "cell_type": "code",
      "metadata": {
        "id": "zJhxx5vzGJn1"
      },
      "source": [
        "reverse_sorted_indices = []\n",
        "arr_temp = arr.flatten()\n",
        "sorted_indices = np.argsort(arr_temp)\n",
        "\n",
        "for i in range(len(sorted_indices)-1,-1,-1):\n",
        "  reverse_sorted_indices.append(sorted_indices[i])\n",
        "\n",
        "reverse_sorted_vertices =[]\n",
        "arr_temp.sort()\n",
        "for i in range(len(arr_temp)-1,-1,-1):\n",
        "  reverse_sorted_vertices.append(arr_temp[i])\n",
        "max_val=max(reverse_sorted_vertices)\n",
        "\n",
        "#sorted indices in terms of 2D matrix\n",
        "index_i = [0 for x in range(0,len(reverse_sorted_indices))]\n",
        "index_j = [0 for x in range(0,len(reverse_sorted_indices))]\n",
        "for i in range(0,len(arr)):\n",
        "  for j in range(0,len(arr[i])):\n",
        "    ind = len(arr[i])*i + j\n",
        "    pos = reverse_sorted_indices.index(ind)\n",
        "    index_i[pos] = i\n",
        "    index_j[pos] = j\n",
        "\n"
      ],
      "execution_count": 15,
      "outputs": []
    },
    {
      "cell_type": "code",
      "metadata": {
        "id": "7bB8r89WH7G-"
      },
      "source": [
        "edges = []\n",
        "neighbors_of_each_ST = []\n",
        "#finding neighbors of each index\n",
        "for i in range(0,len(reverse_sorted_vertices)):\n",
        "  neighbors = list(neighbor_dict2[(index_i[i],index_j[i])])\n",
        "  neighbor_index = []\n",
        "  for j in range(0,len(neighbors)):\n",
        "    m = (size_y+1)*index_i[i]+index_j[i]\n",
        "    n = (size_y+1)*neighbors[j][0]+neighbors[j][1]\n",
        "    neighbor_index.append(n)\n",
        "    edges.append([m,n])"
      ],
      "execution_count": 16,
      "outputs": []
    },
    {
      "cell_type": "code",
      "metadata": {
        "id": "meWcFH0sKBRV"
      },
      "source": [
        "def getST():\n",
        "  UF_ST = []\n",
        "  UF_representative_ST = []\n",
        "  neighbors_of_each_ST = []\n",
        "  UF_dict_ST = {}\n",
        "  ST = []\n",
        "  ST_vertices = []\n",
        "  ST_edges = []\n",
        "  edges = []\n",
        "  reverse_sorted_indices =[]\n",
        "  #sorted indices\n",
        "  arr_temp = arr.flatten()\n",
        "  sorted_indices = np.argsort(arr_temp)\n",
        "  \n",
        "  for i in range(len(sorted_indices)-1,-1,-1):\n",
        "    reverse_sorted_indices.append(sorted_indices[i])\n",
        "  \n",
        "  print(reverse_sorted_indices)\n",
        "  \n",
        "  \n",
        "  reverse_sorted_vertices =[]\n",
        "  #sorted values\n",
        "  arr_temp = arr.flatten()\n",
        "  arr_temp.sort()\n",
        "  for i in range(len(arr_temp)-1,-1,-1):\n",
        "    reverse_sorted_vertices.append(arr_temp[i])\n",
        "  max_val=max(reverse_sorted_vertices)\n",
        "\n",
        " #sorted indices in terms of 2D matrix\n",
        "  index_i = [0 for x in range(0,len(reverse_sorted_indices))]\n",
        "  index_j = [0 for x in range(0,len(reverse_sorted_indices))]\n",
        "  for i in range(0,len(arr)):\n",
        "    for j in range(0,len(arr[i])):\n",
        "      ind = len(arr[i])*i + j\n",
        "      pos = reverse_sorted_indices.index(ind)\n",
        "      index_i[pos] = i\n",
        "      index_j[pos] = j\n",
        "\n",
        " #finding neighbors of each index\n",
        "  for i in range(0,len(reverse_sorted_vertices)):\n",
        "    neighbors = list(neighbor_dict2[(index_i[i],index_j[i])])\n",
        "    neighbor_index = []\n",
        "    for j in range(0,len(neighbors)):\n",
        "      m = (size_y+1)*index_i[i]+index_j[i]\n",
        "      n = (size_y+1)*neighbors[j][0]+neighbors[j][1]\n",
        "      neighbor_index.append(n)\n",
        "      edges.append([m,n])\n",
        "    neighbors_of_each_ST.append(neighbor_index)\n",
        "\n",
        "  print(edges)\n",
        "  for i in range(0,len(reverse_sorted_vertices)):\n",
        "    for j in range(0,len(edges)):\n",
        "      if edges[j][1]==reverse_sorted_indices[i]:\n",
        "        i_dashed = find(UF_dict_ST, edges[j][0])\n",
        "        j_dashed = find(UF_dict_ST, edges[j][1])\n",
        "        \n",
        "        if i_dashed != j_dashed:   # this will be equal if the edge is already present otherwise always not equal\n",
        "          if i_dashed != None :\n",
        "            ST_edges.append([i_dashed,edges[j][1]])\n",
        "            ST_vertices.append(edges[j][1])\n",
        "            UF_dict_ST = update(UF_dict_ST, i_dashed, edges[j][1])\n",
        "        else:\n",
        "          if i_dashed is None :\n",
        "            ST.append(maxST(i,UF_ST, UF_dict_ST,reverse_sorted_indices))\n",
        "            ST_vertices.append(reverse_sorted_indices[i])\n",
        "        #if i_dashed == j_dashed and i_dashed == None:\n",
        "          #if j_dashed == None :\n",
        "            #ST.append(maxST(i,UF_ST, UF_dict_ST,reverse_sorted_indices))\n",
        "            #ST_vertices.append(edges[j][1])\n",
        "            #UF_dict_ST = update(UF_dict_ST, i_dashed, edges[j][1])\n",
        "        #print(ST_vertices)\n",
        "\n",
        "\n",
        "  graph = pydot.Dot('Join Tree', graph_type='graph')\n",
        "\n",
        "  # Add nodes\n",
        "  for i in range(0,len(ST_vertices)):\n",
        "    my_node = pydot.Node(str(ST_vertices[i]), label=str(ST_vertices[i]))\n",
        "    graph.add_node(my_node)\n",
        "  \n",
        "  # Or, without using an intermediate variable:\n",
        "  #graph.add_node(pydot.Node('b', shape='circle'))\n",
        "\n",
        "  # Add edges\n",
        "  for i in range(0,len(ST_edges)):\n",
        "    my_edge = pydot.Edge(str(ST_edges[i][0]), str(ST_edges[i][1]), color='blue')\n",
        "    graph.add_edge(my_edge)\n",
        "  \n",
        "\n",
        "  \n",
        "  plt = Image(graph.create_png())\n",
        "  display(plt)\n",
        "  print(UF_dict_ST)\n",
        "  print(ST_edges)\n",
        "  print(ST_vertices)"
      ],
      "execution_count": 17,
      "outputs": []
    },
    {
      "cell_type": "code",
      "metadata": {
        "id": "XgrWIUIDLGce"
      },
      "source": [
        ""
      ],
      "execution_count": 17,
      "outputs": []
    },
    {
      "cell_type": "code",
      "metadata": {
        "colab": {
          "base_uri": "https://localhost:8080/",
          "height": 1000
        },
        "id": "6qPqEuJ1ZdAb",
        "outputId": "ca6bb608-c07a-4bd5-b7c9-72cfcf6d07b1"
      },
      "source": [
        "getST()"
      ],
      "execution_count": 18,
      "outputs": [
        {
          "output_type": "stream",
          "name": "stdout",
          "text": [
            "[12, 3, 8, 7, 15, 4, 11, 0, 10, 1, 9, 2, 13, 6, 14, 5]\n",
            "[[12, 8], [12, 13], [12, 9], [3, 6], [3, 7], [3, 2], [8, 12], [8, 4], [8, 5], [8, 9], [7, 6], [7, 3], [7, 11], [7, 10], [15, 14], [15, 11], [4, 1], [4, 8], [4, 0], [4, 5], [11, 14], [11, 7], [11, 15], [11, 10], [0, 1], [0, 4], [10, 6], [10, 14], [10, 7], [10, 13], [10, 9], [10, 11], [1, 4], [1, 0], [1, 2], [1, 5], [9, 6], [9, 12], [9, 13], [9, 8], [9, 10], [9, 5], [2, 1], [2, 3], [2, 5], [2, 6], [13, 12], [13, 14], [13, 9], [13, 10], [6, 7], [6, 2], [6, 9], [6, 10], [6, 3], [6, 5], [14, 13], [14, 11], [14, 15], [14, 10], [5, 1], [5, 6], [5, 9], [5, 8], [5, 4], [5, 2]]\n"
          ]
        },
        {
          "output_type": "display_data",
          "data": {
            "image/png": "[encoded data removed]",
            "text/plain": [
              "<IPython.core.display.Image object>"
            ]
          },
          "metadata": {}
        },
        {
          "output_type": "stream",
          "name": "stdout",
          "text": [
            "{5: [0, 1, 3, 4, 7, 8, 9, 10, 11, 12, 15, 2, 13, 6, 14, 5]}\n",
            "[[12, 8], [3, 7], [8, 4], [7, 11], [15, 11], [4, 0], [11, 10], [0, 1], [1, 9], [10, 9], [9, 2], [2, 13], [13, 6], [6, 14], [14, 5]]\n",
            "[12, 3, 8, 7, 15, 4, 11, 11, 0, 10, 1, 9, 9, 2, 13, 6, 14, 5]\n"
          ]
        }
      ]
    },
    {
      "cell_type": "code",
      "metadata": {
        "id": "JggqzfWxg1Sq"
      },
      "source": [
        ""
      ],
      "execution_count": 18,
      "outputs": []
    },
    {
      "cell_type": "markdown",
      "metadata": {
        "id": "v9kmZs32TuHo"
      },
      "source": [
        "#Join Tree creation"
      ]
    },
    {
      "cell_type": "code",
      "metadata": {
        "id": "_Fn5TiAnwU1S"
      },
      "source": [
        ""
      ],
      "execution_count": 18,
      "outputs": []
    },
    {
      "cell_type": "markdown",
      "metadata": {
        "id": "-PnT1cv8Zg1z"
      },
      "source": [
        "\n",
        "\n",
        "creation of UF, UF representative and ST for Split Tree"
      ]
    },
    {
      "cell_type": "code",
      "metadata": {
        "id": "489lbHhTxTjY"
      },
      "source": [
        ""
      ],
      "execution_count": 18,
      "outputs": []
    },
    {
      "cell_type": "code",
      "metadata": {
        "id": "8tb0PLHIZgj2"
      },
      "source": [
        ""
      ],
      "execution_count": 18,
      "outputs": []
    },
    {
      "cell_type": "markdown",
      "metadata": {
        "id": "CS9-508AT9rd"
      },
      "source": [
        "#Split Tree creation"
      ]
    },
    {
      "cell_type": "code",
      "metadata": {
        "id": "9Xk3aqb6T9ZE"
      },
      "source": [
        ""
      ],
      "execution_count": 18,
      "outputs": []
    },
    {
      "cell_type": "code",
      "metadata": {
        "id": "wPvVRmz9EhBw"
      },
      "source": [
        "\n"
      ],
      "execution_count": 18,
      "outputs": []
    },
    {
      "cell_type": "code",
      "metadata": {
        "id": "208w4nb47iz3"
      },
      "source": [
        ""
      ],
      "execution_count": 18,
      "outputs": []
    }
  ]
}