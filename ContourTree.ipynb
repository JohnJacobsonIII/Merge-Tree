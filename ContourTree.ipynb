{
  "nbformat": 4,
  "nbformat_minor": 0,
  "metadata": {
    "colab": {
      "name": "Copy of ContourTree.ipynb",
      "provenance": [],
      "collapsed_sections": []
    },
    "kernelspec": {
      "name": "python3",
      "display_name": "Python 3"
    },
    "language_info": {
      "name": "python"
    }
  },
  "cells": [
    {
      "cell_type": "markdown",
      "metadata": {
        "id": "sfoCUpMET40C"
      },
      "source": [
        "#Create vertices for 2D and store in an array"
      ]
    },
    {
      "cell_type": "code",
      "metadata": {
        "colab": {
          "base_uri": "https://localhost:8080/"
        },
        "id": "d_VhHgjnsxWM",
        "outputId": "a1e7f52a-659a-4c5a-986e-abab19e0fc5c"
      },
      "source": [
        "import numpy as np\n",
        "import pandas as pd\n",
        "import functools \n",
        "from IPython.display import Image, display\n",
        "import graphviz\n",
        "import pydot\n",
        "from graphviz import Source\n",
        "\n",
        "arr = np.array([[4, 3, 2, 7], [5, 0, 1, 6], [6, 2, 3, 4], [7, 1, 0, 5]])\n",
        "print(arr)\n",
        "size_x = len(arr)-1\n",
        "size_y = len(arr[0])-1\n",
        "print(size_x)\n",
        "print(size_y)"
      ],
      "execution_count": null,
      "outputs": [
        {
          "output_type": "stream",
          "name": "stdout",
          "text": [
            "[[4 3 2 7]\n",
            " [5 0 1 6]\n",
            " [6 2 3 4]\n",
            " [7 1 0 5]]\n",
            "3\n",
            "3\n"
          ]
        }
      ]
    },
    {
      "cell_type": "markdown",
      "metadata": {
        "id": "d6S_NOtVH_se"
      },
      "source": [
        "Find Neighbors"
      ]
    },
    {
      "cell_type": "code",
      "metadata": {
        "id": "JeN5XoG7H-2q"
      },
      "source": [
        "def findNeighbors(i,j):\n",
        "  #pos_in_sorted_indices = i in sorted_indices\n",
        "  pos_index_i = i\n",
        "  pos_index_j = j\n",
        "\n",
        "  neighbor_list = []\n",
        "  #corners\n",
        "  if(pos_index_i == 0 and pos_index_j == 0):\n",
        "    neighbor_list.append([pos_index_i+1,pos_index_j])\n",
        "    neighbor_list.append([pos_index_i,pos_index_j+1])\n",
        "\n",
        "\n",
        "  elif(pos_index_i == 0 and pos_index_j == size_y):\n",
        "    neighbor_list.append([pos_index_i,pos_index_j-1])\n",
        "    neighbor_list.append([pos_index_i+1,pos_index_j])\n",
        "    neighbor_list.append([pos_index_i+1,pos_index_j-1])\n",
        "\n",
        "\n",
        "  elif(pos_index_i == size_x and pos_index_j == 0):\n",
        "    neighbor_list.append([pos_index_i-1,pos_index_j])\n",
        "    neighbor_list.append([pos_index_i-1,pos_index_j+1])\n",
        "    neighbor_list.append([pos_index_i,pos_index_j+1])\n",
        "\n",
        "\n",
        "  elif(pos_index_i == size_x and pos_index_j == size_y):\n",
        "    neighbor_list.append([pos_index_i,pos_index_j-1])\n",
        "    neighbor_list.append([pos_index_i-1,pos_index_j])\n",
        "\n",
        "  #boundaries\n",
        "  elif((pos_index_i == 0 and pos_index_j != 0) and (pos_index_i == 0 and pos_index_j != size_y)):\n",
        "    neighbor_list.append([pos_index_i,pos_index_j-1])\n",
        "    neighbor_list.append([pos_index_i,pos_index_j+1])\n",
        "    neighbor_list.append([pos_index_i+1,pos_index_j-1])\n",
        "    neighbor_list.append([pos_index_i+1,pos_index_j])\n",
        "\n",
        "\n",
        "  elif((pos_index_i != 0 and pos_index_j == 0) and (pos_index_i != size_x and pos_index_j == 0)):\n",
        "    neighbor_list.append([pos_index_i-1,pos_index_j])\n",
        "    neighbor_list.append([pos_index_i+1,pos_index_j])\n",
        "    neighbor_list.append([pos_index_i,pos_index_j+1])\n",
        "    neighbor_list.append([pos_index_i-1,pos_index_j+1])\n",
        "\n",
        "\n",
        "\n",
        "  elif((pos_index_i == size_x and pos_index_j != 0) and (pos_index_i == size_x and pos_index_j != size_y)):\n",
        "    neighbor_list.append([pos_index_i,pos_index_j-1])\n",
        "    neighbor_list.append([pos_index_i,pos_index_j+1])\n",
        "    neighbor_list.append([pos_index_i-1,pos_index_j])\n",
        "    neighbor_list.append([pos_index_i-1,pos_index_j+1])\n",
        "\n",
        "\n",
        "\n",
        "  elif((pos_index_i != 0 and pos_index_j == size_y) and (pos_index_i != size_x and pos_index_j == size_y)):\n",
        "    neighbor_list.append([pos_index_i-1,pos_index_j])\n",
        "    neighbor_list.append([pos_index_i+1,pos_index_j])\n",
        "    neighbor_list.append([pos_index_i,pos_index_j-1])\n",
        "    neighbor_list.append([pos_index_i+1,pos_index_j])\n",
        "\n",
        "\n",
        "  #general cases\n",
        "  else:\n",
        "    neighbor_list.append([pos_index_i,pos_index_j-1])\n",
        "    neighbor_list.append([pos_index_i-1,pos_index_j])\n",
        "    neighbor_list.append([pos_index_i,pos_index_j+1])\n",
        "    neighbor_list.append([pos_index_i+1,pos_index_j])\n",
        "    neighbor_list.append([pos_index_i-1,pos_index_j+1])\n",
        "    neighbor_list.append([pos_index_i+1,pos_index_j-1])\n",
        "\n",
        "  return neighbor_list"
      ],
      "execution_count": null,
      "outputs": []
    },
    {
      "cell_type": "markdown",
      "metadata": {
        "id": "4PI4dquycjSz"
      },
      "source": [
        "Johns version"
      ]
    },
    {
      "cell_type": "code",
      "metadata": {
        "id": "AvYnOn7d7Go_",
        "colab": {
          "base_uri": "https://localhost:8080/"
        },
        "outputId": "f9ad67d2-bb80-4203-d971-92c4bfc14c63"
      },
      "source": [
        "\"\"\"\n",
        "Converting all the outputs of above 'findNeighbors' function \n",
        "into a dict and then displaying for comparison\n",
        "\"\"\"\n",
        "\n",
        "neighbor_dict = {}\n",
        "for i,j in ((a,b) for a in range(4) for b in range(4)):\n",
        "  neighbor_dict[(i,j)] = findNeighbors(i,j)\n",
        "\n",
        "for key, val in neighbor_dict.items():\n",
        "  print(str(key) + ':', val)"
      ],
      "execution_count": null,
      "outputs": [
        {
          "output_type": "stream",
          "name": "stdout",
          "text": [
            "(0, 0): [[1, 0], [0, 1]]\n",
            "(0, 1): [[0, 0], [0, 2], [1, 0], [1, 1]]\n",
            "(0, 2): [[0, 1], [0, 3], [1, 1], [1, 2]]\n",
            "(0, 3): [[0, 2], [1, 3], [1, 2]]\n",
            "(1, 0): [[0, 0], [2, 0], [1, 1], [0, 1]]\n",
            "(1, 1): [[1, 0], [0, 1], [1, 2], [2, 1], [0, 2], [2, 0]]\n",
            "(1, 2): [[1, 1], [0, 2], [1, 3], [2, 2], [0, 3], [2, 1]]\n",
            "(1, 3): [[0, 3], [2, 3], [1, 2], [2, 3]]\n",
            "(2, 0): [[1, 0], [3, 0], [2, 1], [1, 1]]\n",
            "(2, 1): [[2, 0], [1, 1], [2, 2], [3, 1], [1, 2], [3, 0]]\n",
            "(2, 2): [[2, 1], [1, 2], [2, 3], [3, 2], [1, 3], [3, 1]]\n",
            "(2, 3): [[1, 3], [3, 3], [2, 2], [3, 3]]\n",
            "(3, 0): [[2, 0], [2, 1], [3, 1]]\n",
            "(3, 1): [[3, 0], [3, 2], [2, 1], [2, 2]]\n",
            "(3, 2): [[3, 1], [3, 3], [2, 2], [2, 3]]\n",
            "(3, 3): [[3, 2], [2, 3]]\n"
          ]
        }
      ]
    },
    {
      "cell_type": "code",
      "metadata": {
        "id": "6O2JYRi6Sr6N",
        "colab": {
          "base_uri": "https://localhost:8080/"
        },
        "outputId": "1477eae1-a3df-4cc7-a392-490a6adc68b8"
      },
      "source": [
        "\"\"\"\n",
        "My implementation of a dict of neighbors for each position\n",
        "\n",
        "if the order matters for these sets of indices, i'll need to change\n",
        "to a list and modify.\n",
        "\"\"\"\n",
        "\n",
        "def get_range(arr_max_idx, idx):\n",
        "  \"\"\"\n",
        "  returns set of indices neighboring input idx, \n",
        "  between 0 and arr_max_idx (last index for this dimension)\n",
        "  \"\"\"\n",
        "  arr_bounds = set(range(arr_max_idx+1))\n",
        "  return set(range(idx-1,idx+2)).intersection(arr_bounds)\n",
        "\n",
        "neighbor_dict2 = {(i,j): {(x,y) for x in get_range(size_x, i) for y in get_range(size_y, j) if not(x-i==y-j)} for i in range(4) for j in range(4)}\n",
        "\n",
        "for key, val in neighbor_dict2.items():\n",
        "  print(str(key) + ':', val)"
      ],
      "execution_count": null,
      "outputs": [
        {
          "output_type": "stream",
          "name": "stdout",
          "text": [
            "(0, 0): {(0, 1), (1, 0)}\n",
            "(0, 1): {(1, 0), (0, 0), (0, 2), (1, 1)}\n",
            "(0, 2): {(0, 1), (0, 3), (1, 1), (1, 2)}\n",
            "(0, 3): {(1, 2), (1, 3), (0, 2)}\n",
            "(1, 0): {(0, 1), (2, 0), (0, 0), (1, 1)}\n",
            "(1, 1): {(0, 1), (1, 2), (2, 1), (2, 0), (1, 0), (0, 2)}\n",
            "(1, 2): {(1, 3), (0, 2), (2, 1), (2, 2), (0, 3), (1, 1)}\n",
            "(1, 3): {(1, 2), (0, 3), (2, 3), (2, 2)}\n",
            "(2, 0): {(3, 0), (1, 0), (1, 1), (2, 1)}\n",
            "(2, 1): {(1, 2), (3, 0), (3, 1), (2, 0), (2, 2), (1, 1)}\n",
            "(2, 2): {(1, 2), (3, 2), (1, 3), (3, 1), (2, 1), (2, 3)}\n",
            "(2, 3): {(3, 2), (1, 3), (3, 3), (2, 2)}\n",
            "(3, 0): {(2, 0), (3, 1), (2, 1)}\n",
            "(3, 1): {(3, 0), (3, 2), (2, 1), (2, 2)}\n",
            "(3, 2): {(3, 1), (2, 3), (3, 3), (2, 2)}\n",
            "(3, 3): {(3, 2), (2, 3)}\n"
          ]
        }
      ]
    },
    {
      "cell_type": "code",
      "metadata": {
        "id": "ED2JGFIaUZGm",
        "colab": {
          "base_uri": "https://localhost:8080/",
          "height": 246
        },
        "outputId": "7b126e65-9c49-434e-e58a-b8634b8cbbe6"
      },
      "source": [
        "for k,v in neighbor_dict2.items():\n",
        "  nl = neighbor_dict[k]\n",
        "  assert len(nl) == len(v), \"length mismatch\"\n",
        "  assert v == set([tuple(x) for x in nl]), \"item not found. k: \" + str(k) + \" v: \" + str(v)\n",
        "\n",
        "# Seems your version has an incorrect case; you can check this assertion violation to see"
      ],
      "execution_count": null,
      "outputs": [
        {
          "output_type": "error",
          "ename": "AssertionError",
          "evalue": "ignored",
          "traceback": [
            "\u001b[0;31m---------------------------------------------------------------------------\u001b[0m",
            "\u001b[0;31mAssertionError\u001b[0m                            Traceback (most recent call last)",
            "\u001b[0;32m<ipython-input-55-d97ef34a29fa>\u001b[0m in \u001b[0;36m<module>\u001b[0;34m()\u001b[0m\n\u001b[1;32m      2\u001b[0m   \u001b[0mnl\u001b[0m \u001b[0;34m=\u001b[0m \u001b[0mneighbor_dict\u001b[0m\u001b[0;34m[\u001b[0m\u001b[0mk\u001b[0m\u001b[0;34m]\u001b[0m\u001b[0;34m\u001b[0m\u001b[0;34m\u001b[0m\u001b[0m\n\u001b[1;32m      3\u001b[0m   \u001b[0;32massert\u001b[0m \u001b[0mlen\u001b[0m\u001b[0;34m(\u001b[0m\u001b[0mnl\u001b[0m\u001b[0;34m)\u001b[0m \u001b[0;34m==\u001b[0m \u001b[0mlen\u001b[0m\u001b[0;34m(\u001b[0m\u001b[0mv\u001b[0m\u001b[0;34m)\u001b[0m\u001b[0;34m,\u001b[0m \u001b[0;34m\"length mismatch\"\u001b[0m\u001b[0;34m\u001b[0m\u001b[0;34m\u001b[0m\u001b[0m\n\u001b[0;32m----> 4\u001b[0;31m   \u001b[0;32massert\u001b[0m \u001b[0mv\u001b[0m \u001b[0;34m==\u001b[0m \u001b[0mset\u001b[0m\u001b[0;34m(\u001b[0m\u001b[0;34m[\u001b[0m\u001b[0mtuple\u001b[0m\u001b[0;34m(\u001b[0m\u001b[0mx\u001b[0m\u001b[0;34m)\u001b[0m \u001b[0;32mfor\u001b[0m \u001b[0mx\u001b[0m \u001b[0;32min\u001b[0m \u001b[0mnl\u001b[0m\u001b[0;34m]\u001b[0m\u001b[0;34m)\u001b[0m\u001b[0;34m,\u001b[0m \u001b[0;34m\"item not found. k: \"\u001b[0m \u001b[0;34m+\u001b[0m \u001b[0mstr\u001b[0m\u001b[0;34m(\u001b[0m\u001b[0mk\u001b[0m\u001b[0;34m)\u001b[0m \u001b[0;34m+\u001b[0m \u001b[0;34m\" v: \"\u001b[0m \u001b[0;34m+\u001b[0m \u001b[0mstr\u001b[0m\u001b[0;34m(\u001b[0m\u001b[0mv\u001b[0m\u001b[0;34m)\u001b[0m\u001b[0;34m\u001b[0m\u001b[0;34m\u001b[0m\u001b[0m\n\u001b[0m\u001b[1;32m      5\u001b[0m \u001b[0;34m\u001b[0m\u001b[0m\n\u001b[1;32m      6\u001b[0m \u001b[0;31m# Seems your version has an incorrect case; you can check this assertion violation to see\u001b[0m\u001b[0;34m\u001b[0m\u001b[0;34m\u001b[0m\u001b[0;34m\u001b[0m\u001b[0m\n",
            "\u001b[0;31mAssertionError\u001b[0m: item not found. k: (1, 3) v: {(1, 2), (0, 3), (2, 3), (2, 2)}"
          ]
        }
      ]
    },
    {
      "cell_type": "code",
      "metadata": {
        "id": "1rwo_Q2gUY_-"
      },
      "source": [
        ""
      ],
      "execution_count": null,
      "outputs": []
    },
    {
      "cell_type": "code",
      "metadata": {
        "id": "DoCErat8ZBlh"
      },
      "source": [
        ""
      ],
      "execution_count": null,
      "outputs": []
    },
    {
      "cell_type": "code",
      "metadata": {
        "id": "4oKN3ZTdcVDa"
      },
      "source": [
        ""
      ],
      "execution_count": null,
      "outputs": []
    },
    {
      "cell_type": "markdown",
      "metadata": {
        "id": "ftiFr_RRcaUV"
      },
      "source": [
        "creation of UF, UF representative and JT for Join Tree"
      ]
    },
    {
      "cell_type": "markdown",
      "metadata": {
        "id": "cg-aj91XVPkQ"
      },
      "source": [
        "Undirected edges"
      ]
    },
    {
      "cell_type": "code",
      "metadata": {
        "id": "KMWaCBBSUYWe"
      },
      "source": [
        ""
      ],
      "execution_count": null,
      "outputs": []
    },
    {
      "cell_type": "code",
      "metadata": {
        "id": "7G0r32-PUiSH"
      },
      "source": [
        ""
      ],
      "execution_count": null,
      "outputs": []
    },
    {
      "cell_type": "code",
      "metadata": {
        "id": "61nT2I0tV9xK"
      },
      "source": [
        ""
      ],
      "execution_count": null,
      "outputs": []
    },
    {
      "cell_type": "code",
      "metadata": {
        "id": "93ZHtJStWR5l"
      },
      "source": [
        ""
      ],
      "execution_count": null,
      "outputs": []
    },
    {
      "cell_type": "code",
      "metadata": {
        "id": "H2EMmRP-nZr1"
      },
      "source": [
        "def minJT(i,UF, UF_dict,sorted_indices):\n",
        "  \n",
        "  JT_vertices = []\n",
        "  UF_temp = []\n",
        "  UF_temp.append(sorted_indices[i])\n",
        "  UF.append(UF_temp)\n",
        "  key = sorted_indices[i]\n",
        "  UF_dict[key] = UF_temp\n",
        "  JT_vertices.append(UF_temp)\n",
        "  \n",
        "  return JT_vertices"
      ],
      "execution_count": null,
      "outputs": []
    },
    {
      "cell_type": "code",
      "metadata": {
        "id": "rjWI_aa7qdyH"
      },
      "source": [
        "def find(UF_dict, vertex):\n",
        "  keys = []\n",
        "  for key, value in UF_dict.items():\n",
        "    for i in range(0,len(value)):\n",
        "      if value[i] == vertex :\n",
        "        return key\n",
        "    \n",
        "  \n"
      ],
      "execution_count": null,
      "outputs": []
    },
    {
      "cell_type": "code",
      "metadata": {
        "id": "pMYBB86EKbQn"
      },
      "source": [
        "def common(UF_dict,vertex, other_key):\n",
        "  val = []\n",
        "  new_list =[]\n",
        "  keys=[]\n",
        "  for key,value in UF_dict.items():\n",
        "    val.append(value)\n",
        "    keys.append(key)\n",
        "  \n",
        "  if len(val) > 1 :\n",
        "    for i in range(0,len(val)-1):\n",
        "      for j in range(1,len(val)):\n",
        "        common_list = set(val[i]).intersection(val[j])\n",
        "        if len(common_list) > 0:\n",
        "          new_list.extend(val[i])\n",
        "          new_list.extend(val[j])\n",
        "          new_list = list(set(new_list))\n",
        "          UF_dict.pop(keys[i])\n",
        "          UF_dict.pop(keys[j])\n",
        "          common_element = list(common_list)[0]\n",
        "          UF_dict[common_element] = new_list\n",
        "          \n",
        "        else:\n",
        "          UF_dict[vertex] = UF_dict.pop(other_key)\n",
        "          \n",
        "  else:\n",
        "    UF_dict[vertex] = UF_dict.pop(other_key)\n",
        "\n"
      ],
      "execution_count": null,
      "outputs": []
    },
    {
      "cell_type": "code",
      "metadata": {
        "id": "mvSmZeLizNyA"
      },
      "source": [
        "def update(UF_dict, key1, vertex2):\n",
        "  keys = []\n",
        "  for key, value in UF_dict.items():\n",
        "    if key1 == key:\n",
        "      value.append(vertex2)\n",
        "      keys.append(key)\n",
        "  if len(keys) == 1:\n",
        "    common(UF_dict, vertex2, keys[0]) #if common elements then merge and update\n",
        "    return UF_dict\n",
        "  return UF_dict\n",
        " \n",
        "      \n",
        "  "
      ],
      "execution_count": null,
      "outputs": []
    },
    {
      "cell_type": "code",
      "metadata": {
        "id": "EGNSsHDQ7UfL"
      },
      "source": [
        ""
      ],
      "execution_count": null,
      "outputs": []
    },
    {
      "cell_type": "code",
      "metadata": {
        "id": "_KAFNTufkwaT"
      },
      "source": [
        "def getJT():\n",
        "  UF_JT = []\n",
        "  UF_representative_JT = []\n",
        "  neighbors_of_each_JT = []\n",
        "  UF_dict_JT = {}\n",
        "  JT = []\n",
        "  JT_vertices = []\n",
        "  JT_edges = []\n",
        "  edges = []\n",
        "  #sorted indices\n",
        "  arr_temp = arr.flatten()\n",
        "  sorted_indices = np.argsort(arr_temp)\n",
        "  \n",
        "  \n",
        "  #sorted values\n",
        "  arr_temp = arr.flatten()\n",
        "  arr_temp.sort()\n",
        "  sorted_vertices = arr_temp\n",
        "  min_val=min(sorted_vertices)\n",
        "  \n",
        "  #sorted indices in terms of 2D matrix\n",
        "  index_i = [0 for x in range(0,len(sorted_indices))]\n",
        "  index_j = [0 for x in range(0,len(sorted_indices))]\n",
        "  for i in range(0,len(arr)):\n",
        "    for j in range(0,len(arr[i])):\n",
        "      ind = len(arr[i])*i + j\n",
        "      pos = sorted_indices.tolist().index(ind)\n",
        "      index_i[pos] = i\n",
        "      index_j[pos] = j\n",
        "  \n",
        "  #finding neighbors of each index\n",
        "  for i in range(0,len(sorted_vertices)):\n",
        "    neighbors = findNeighbors(index_i[i],index_j[i])\n",
        "    neighbor_index = []\n",
        "    for j in range(0,len(neighbors)):\n",
        "      m = (size_y+1)*index_i[i]+index_j[i]\n",
        "      n = (size_y+1)*neighbors[j][0]+neighbors[j][1]\n",
        "      neighbor_index.append(n)\n",
        "      edges.append([m,n])\n",
        "    neighbors_of_each_JT.append(neighbor_index)\n",
        "\n",
        "  for i in range(0,len(sorted_vertices)):\n",
        "    if sorted_vertices[i]==min_val:\n",
        "      JT.append(minJT(i,UF_JT, UF_dict_JT,sorted_indices))\n",
        "      JT_vertices.append(sorted_indices[i])\n",
        "      #print(UF_dict_JT)\n",
        "    else:\n",
        "      for j in range(0,len(edges)):\n",
        "        #print(sorted_indices[i],edges[j][1])\n",
        "        \n",
        "        if edges[j][1]==sorted_indices[i]:\n",
        "          i_dashed = find(UF_dict_JT, edges[j][0])\n",
        "          #print(i_dashed)\n",
        "          \n",
        "          j_dashed = find(UF_dict_JT, edges[j][1])\n",
        "          #print(j_dashed)\n",
        "         \n",
        "          if i_dashed != j_dashed:   # this will be equal if the edge is already present otherwise always not equal\n",
        "            if i_dashed != None :\n",
        "              JT_edges.append([i_dashed,edges[j][1]])\n",
        "              JT_vertices.append(edges[j][1])\n",
        "            UF_dict_JT = update(UF_dict_JT, i_dashed, edges[j][1])\n",
        "      print(UF_dict_JT)\n",
        "  print(JT_edges)\n",
        "  print(JT_vertices)\n",
        "  \n",
        "  graph = pydot.Dot('Join Tree', graph_type='graph')\n",
        "\n",
        "  # Add nodes\n",
        "  for i in range(0,len(JT_vertices)):\n",
        "    my_node = pydot.Node(str(JT_vertices[i]), label=str(JT_vertices[i]))\n",
        "    graph.add_node(my_node)\n",
        "  \n",
        "  # Or, without using an intermediate variable:\n",
        "  #graph.add_node(pydot.Node('b', shape='circle'))\n",
        "\n",
        "  # Add edges\n",
        "  for i in range(0,len(JT_edges)):\n",
        "    my_edge = pydot.Edge(str(JT_edges[i][0]), str(JT_edges[i][1]), color='blue')\n",
        "    graph.add_edge(my_edge)\n",
        "  \n",
        "\n",
        "  \n",
        "  plt = Image(graph.create_png())\n",
        "  display(plt)"
      ],
      "execution_count": null,
      "outputs": []
    },
    {
      "cell_type": "code",
      "metadata": {
        "id": "ejw2_Jn_lBy1"
      },
      "source": [
        ""
      ],
      "execution_count": null,
      "outputs": []
    },
    {
      "cell_type": "code",
      "metadata": {
        "colab": {
          "base_uri": "https://localhost:8080/",
          "height": 1000
        },
        "id": "TiVXyRAQl8sr",
        "outputId": "ddb6f3f8-d69a-4f25-d257-4c17633cd056"
      },
      "source": [
        "getJT()"
      ],
      "execution_count": null,
      "outputs": [
        {
          "output_type": "stream",
          "name": "stdout",
          "text": [
            "{14: [14], 6: [5, 6]}\n",
            "{6: [5, 6], 13: [14, 13]}\n",
            "{13: [14, 13], 2: [5, 6, 2]}\n",
            "{9: [2, 5, 6, 9, 13, 14]}\n",
            "{1: [2, 5, 6, 9, 13, 14, 1]}\n",
            "{10: [2, 5, 6, 9, 13, 14, 1, 10]}\n",
            "{0: [2, 5, 6, 9, 13, 14, 1, 10, 0]}\n",
            "{11: [2, 5, 6, 9, 13, 14, 1, 10, 0, 11]}\n",
            "{4: [2, 5, 6, 9, 13, 14, 1, 10, 0, 11, 4]}\n",
            "{15: [2, 5, 6, 9, 13, 14, 1, 10, 0, 11, 4, 15]}\n",
            "{7: [2, 5, 6, 9, 13, 14, 1, 10, 0, 11, 4, 15, 7]}\n",
            "{8: [2, 5, 6, 9, 13, 14, 1, 10, 0, 11, 4, 15, 7, 8]}\n",
            "{3: [2, 5, 6, 9, 13, 14, 1, 10, 0, 11, 4, 15, 7, 8, 3]}\n",
            "{12: [2, 5, 6, 9, 13, 14, 1, 10, 0, 11, 4, 15, 7, 8, 3, 12]}\n",
            "[[5, 6], [14, 13], [6, 2], [2, 9], [13, 9], [9, 1], [1, 10], [10, 0], [0, 11], [11, 4], [4, 15], [15, 7], [7, 8], [8, 3], [3, 12]]\n",
            "[5, 14, 6, 13, 2, 9, 9, 1, 10, 0, 11, 4, 15, 7, 8, 3, 12]\n"
          ]
        },
        {
          "output_type": "display_data",
          "data": {
            "image/png": "[encoded data removed]",
            "text/plain": [
              "<IPython.core.display.Image object>"
            ]
          },
          "metadata": {}
        }
      ]
    },
    {
      "cell_type": "code",
      "metadata": {
        "id": "3eJBAcn6lDyq"
      },
      "source": [
        "\n"
      ],
      "execution_count": null,
      "outputs": []
    },
    {
      "cell_type": "code",
      "metadata": {
        "id": "FeWAmbd0fngq"
      },
      "source": [
        "def maxST(i,UF, UF_dict,reverse_sorted_indices):\n",
        "  \n",
        "  ST_vertices = []\n",
        "  UF_temp = []\n",
        "  UF_temp.append(reverse_sorted_indices[i])\n",
        "  UF.append(UF_temp)\n",
        "  key = reverse_sorted_indices[i]\n",
        "  UF_dict[key] = UF_temp\n",
        "  ST_vertices.append(UF_temp)\n",
        "  \n",
        "  return ST_vertices"
      ],
      "execution_count": null,
      "outputs": []
    },
    {
      "cell_type": "code",
      "metadata": {
        "id": "meWcFH0sKBRV"
      },
      "source": [
        "def getST():\n",
        "  UF_ST = []\n",
        "  UF_representative_ST = []\n",
        "  neighbors_of_each_ST = []\n",
        "  UF_dict_ST = {}\n",
        "  ST = []\n",
        "  ST_vertices = []\n",
        "  ST_edges = []\n",
        "  edges = []\n",
        "  reverse_sorted_indices =[]\n",
        "  #sorted indices\n",
        "  arr_temp = arr.flatten()\n",
        "  sorted_indices = np.argsort(arr_temp)\n",
        "  \n",
        "  for i in range(len(sorted_indices)-1,-1,-1):\n",
        "    reverse_sorted_indices.append(sorted_indices[i])\n",
        "  \n",
        "  print(reverse_sorted_indices)\n",
        "  \n",
        "  \n",
        "  reverse_sorted_vertices =[]\n",
        "  #sorted values\n",
        "  arr_temp = arr.flatten()\n",
        "  arr_temp.sort()\n",
        "  for i in range(len(arr_temp)-1,-1,-1):\n",
        "    reverse_sorted_vertices.append(arr_temp[i])\n",
        "  max_val=max(reverse_sorted_vertices)\n",
        "\n",
        " #sorted indices in terms of 2D matrix\n",
        "  index_i = [0 for x in range(0,len(reverse_sorted_indices))]\n",
        "  index_j = [0 for x in range(0,len(reverse_sorted_indices))]\n",
        "  for i in range(0,len(arr)):\n",
        "    for j in range(0,len(arr[i])):\n",
        "      ind = len(arr[i])*i + j\n",
        "      pos = reverse_sorted_indices.index(ind)\n",
        "      index_i[pos] = i\n",
        "      index_j[pos] = j\n",
        "\n",
        " #finding neighbors of each index\n",
        "  for i in range(0,len(reverse_sorted_vertices)):\n",
        "    neighbors = findNeighbors(index_i[i],index_j[i])\n",
        "    neighbor_index = []\n",
        "    for j in range(0,len(neighbors)):\n",
        "      m = (size_y+1)*index_i[i]+index_j[i]\n",
        "      n = (size_y+1)*neighbors[j][0]+neighbors[j][1]\n",
        "      neighbor_index.append(n)\n",
        "      edges.append([m,n])\n",
        "    neighbors_of_each_ST.append(neighbor_index)\n",
        "\n",
        "  print(edges)\n",
        "  for i in range(0,len(reverse_sorted_vertices)):\n",
        "    \n",
        "    if reverse_sorted_vertices[i]==max_val:\n",
        "      \n",
        "      ST.append(maxST(i,UF_ST, UF_dict_ST,reverse_sorted_indices))\n",
        "      \n",
        "      ST_vertices.append(reverse_sorted_indices[i])\n",
        "      \n",
        "    else:\n",
        "      for j in range(0,len(edges)):\n",
        "        \n",
        "        \n",
        "        \n",
        "        if edges[j][1]==reverse_sorted_indices[i]:\n",
        "          \n",
        "          i_dashed = find(UF_dict_ST, edges[j][0])\n",
        "          \n",
        "          \n",
        "          j_dashed = find(UF_dict_ST, edges[j][1])\n",
        "          #print(UF_dict_ST)\n",
        "          print(edges[j][0],edges[j][1],reverse_sorted_indices[i],i_dashed, j_dashed)\n",
        "          \n",
        "         \n",
        "          if i_dashed != j_dashed:   # this will be equal if the edge is already present otherwise always not equal\n",
        "            if i_dashed != None :\n",
        "              ST_edges.append([i_dashed,edges[j][1]])\n",
        "              ST_vertices.append(edges[j][1])\n",
        "          #if i_dashed == j_dashed and i_dashed == None:\n",
        "            #if j_dashed == None :\n",
        "              #ST.append(maxST(i,UF_ST, UF_dict_ST,reverse_sorted_indices))\n",
        "              #ST_vertices.append(edges[j][1])\n",
        "              #UF_dict_ST = update(UF_dict_ST, i_dashed, edges[j][1])\n",
        "          UF_dict_ST = update(UF_dict_ST, i_dashed, edges[j][1])\n",
        "  graph = pydot.Dot('Join Tree', graph_type='graph')\n",
        "\n",
        "  # Add nodes\n",
        "  for i in range(0,len(ST_vertices)):\n",
        "    my_node = pydot.Node(str(ST_vertices[i]), label=str(ST_vertices[i]))\n",
        "    graph.add_node(my_node)\n",
        "  \n",
        "  # Or, without using an intermediate variable:\n",
        "  #graph.add_node(pydot.Node('b', shape='circle'))\n",
        "\n",
        "  # Add edges\n",
        "  for i in range(0,len(ST_edges)):\n",
        "    my_edge = pydot.Edge(str(ST_edges[i][0]), str(ST_edges[i][1]), color='blue')\n",
        "    graph.add_edge(my_edge)\n",
        "  \n",
        "\n",
        "  \n",
        "  plt = Image(graph.create_png())\n",
        "  display(plt)\n",
        "  print(UF_dict_ST)\n",
        "  print(ST_edges)\n",
        "  print(ST_vertices)"
      ],
      "execution_count": null,
      "outputs": []
    },
    {
      "cell_type": "code",
      "metadata": {
        "colab": {
          "base_uri": "https://localhost:8080/",
          "height": 1000
        },
        "id": "6qPqEuJ1ZdAb",
        "outputId": "ed90b2f1-97de-4838-d444-852673b607b5"
      },
      "source": [
        "getST()"
      ],
      "execution_count": null,
      "outputs": [
        {
          "output_type": "stream",
          "name": "stdout",
          "text": [
            "[12, 3, 8, 7, 15, 4, 11, 0, 10, 1, 9, 2, 13, 6, 14, 5]\n",
            "[[12, 8], [12, 9], [12, 13], [3, 2], [3, 7], [3, 6], [8, 4], [8, 12], [8, 9], [8, 5], [7, 3], [7, 11], [7, 6], [7, 11], [15, 14], [15, 11], [4, 0], [4, 8], [4, 5], [4, 1], [11, 7], [11, 15], [11, 10], [11, 15], [0, 4], [0, 1], [10, 9], [10, 6], [10, 11], [10, 14], [10, 7], [10, 13], [1, 0], [1, 2], [1, 4], [1, 5], [9, 8], [9, 5], [9, 10], [9, 13], [9, 6], [9, 12], [2, 1], [2, 3], [2, 5], [2, 6], [13, 12], [13, 14], [13, 9], [13, 10], [6, 5], [6, 2], [6, 7], [6, 10], [6, 3], [6, 9], [14, 13], [14, 15], [14, 10], [14, 11], [5, 4], [5, 1], [5, 6], [5, 9], [5, 2], [5, 8]]\n",
            "12 8 8 12 None\n",
            "4 8 8 None 8\n",
            "9 8 8 None 8\n",
            "5 8 8 None 8\n",
            "3 7 7 3 None\n",
            "11 7 7 None 7\n",
            "10 7 7 None 7\n",
            "6 7 7 None 7\n",
            "11 15 15 None None\n",
            "11 15 15 None None\n",
            "14 15 15 None None\n",
            "8 4 4 8 None\n",
            "0 4 4 None 4\n",
            "1 4 4 None 4\n",
            "5 4 4 None 4\n",
            "7 11 11 7 None\n",
            "7 11 11 11 11\n",
            "15 11 11 None 11\n",
            "10 11 11 None 11\n",
            "14 11 11 None 11\n",
            "4 0 0 4 None\n",
            "1 0 0 None 0\n",
            "11 10 10 11 None\n",
            "9 10 10 None 10\n",
            "13 10 10 None 10\n",
            "6 10 10 None 10\n",
            "14 10 10 None 10\n",
            "4 1 1 0 None\n",
            "0 1 1 1 1\n",
            "2 1 1 None 1\n",
            "5 1 1 None 1\n",
            "12 9 9 1 None\n",
            "8 9 9 9 9\n",
            "10 9 9 10 9\n",
            "13 9 9 None 9\n",
            "6 9 9 None 9\n",
            "5 9 9 None 9\n",
            "3 2 2 9 None\n",
            "1 2 2 2 2\n",
            "6 2 2 None 2\n",
            "5 2 2 None 2\n",
            "12 13 13 2 None\n",
            "10 13 13 13 13\n",
            "9 13 13 13 13\n",
            "14 13 13 None 13\n",
            "3 6 6 13 None\n",
            "7 6 6 6 6\n",
            "10 6 6 6 6\n",
            "9 6 6 6 6\n",
            "2 6 6 6 6\n",
            "5 6 6 None 6\n",
            "15 14 14 None None\n",
            "10 14 14 6 None\n",
            "13 14 14 14 14\n",
            "8 5 5 14 None\n",
            "4 5 5 5 5\n",
            "1 5 5 5 5\n",
            "9 5 5 5 5\n",
            "2 5 5 5 5\n",
            "6 5 5 5 5\n"
          ]
        },
        {
          "output_type": "display_data",
          "data": {
            "image/png": "[encoded data removed]",
            "text/plain": [
              "<IPython.core.display.Image object>"
            ]
          },
          "metadata": {}
        },
        {
          "output_type": "stream",
          "name": "stdout",
          "text": [
            "{5: [0, 1, 3, 4, 7, 8, 9, 10, 11, 12, 2, 2, 13, 13, 13, 6, 6, 6, 6, 6, 14, 14, 5, 5, 5, 5, 5, 5]}\n",
            "[[12, 8], [3, 7], [8, 4], [7, 11], [4, 0], [11, 10], [0, 1], [1, 9], [10, 9], [9, 2], [2, 13], [13, 6], [6, 14], [14, 5]]\n",
            "[12, 3, 8, 7, 4, 11, 0, 10, 1, 9, 9, 2, 13, 6, 14, 5]\n"
          ]
        }
      ]
    },
    {
      "cell_type": "code",
      "metadata": {
        "id": "JggqzfWxg1Sq"
      },
      "source": [
        ""
      ],
      "execution_count": null,
      "outputs": []
    },
    {
      "cell_type": "markdown",
      "metadata": {
        "id": "v9kmZs32TuHo"
      },
      "source": [
        "#Join Tree creation"
      ]
    },
    {
      "cell_type": "code",
      "metadata": {
        "id": "_Fn5TiAnwU1S"
      },
      "source": [
        ""
      ],
      "execution_count": null,
      "outputs": []
    },
    {
      "cell_type": "markdown",
      "metadata": {
        "id": "-PnT1cv8Zg1z"
      },
      "source": [
        "\n",
        "\n",
        "creation of UF, UF representative and ST for Split Tree"
      ]
    },
    {
      "cell_type": "code",
      "metadata": {
        "id": "489lbHhTxTjY"
      },
      "source": [
        ""
      ],
      "execution_count": null,
      "outputs": []
    },
    {
      "cell_type": "code",
      "metadata": {
        "id": "8tb0PLHIZgj2"
      },
      "source": [
        ""
      ],
      "execution_count": null,
      "outputs": []
    },
    {
      "cell_type": "markdown",
      "metadata": {
        "id": "CS9-508AT9rd"
      },
      "source": [
        "#Split Tree creation"
      ]
    },
    {
      "cell_type": "code",
      "metadata": {
        "id": "9Xk3aqb6T9ZE"
      },
      "source": [
        ""
      ],
      "execution_count": null,
      "outputs": []
    },
    {
      "cell_type": "code",
      "metadata": {
        "id": "wPvVRmz9EhBw"
      },
      "source": [
        "\n"
      ],
      "execution_count": null,
      "outputs": []
    },
    {
      "cell_type": "code",
      "metadata": {
        "id": "208w4nb47iz3"
      },
      "source": [
        ""
      ],
      "execution_count": null,
      "outputs": []
    }
  ]
}